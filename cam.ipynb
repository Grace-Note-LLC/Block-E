{
 "cells": [
  {
   "cell_type": "code",
   "execution_count": 7,
   "metadata": {},
   "outputs": [],
   "source": [
    "import pytesseract\n",
    "import cv2"
   ]
  },
  {
   "cell_type": "code",
   "execution_count": 24,
   "metadata": {},
   "outputs": [
    {
     "name": "stderr",
     "output_type": "stream",
     "text": [
      "[ WARN:0@2777.853] global cap_gstreamer.cpp:2838 handleMessage OpenCV | GStreamer warning: Embedded video playback halted; module source reported: Could not read from resource.\n",
      "[ WARN:0@2777.854] global cap_gstreamer.cpp:1698 open OpenCV | GStreamer warning: unable to start pipeline\n",
      "[ WARN:0@2777.854] global cap_gstreamer.cpp:1173 isPipelinePlaying OpenCV | GStreamer warning: GStreamer: pipeline have not been created\n"
     ]
    }
   ],
   "source": [
    "import cv2\n",
    "import pytesseract\n",
    "\n",
    "cap = cv2.VideoCapture(\"/dev/video2\")\n",
    "frame_skip = 20  # Process every 5th frame\n",
    "frame_count = 0\n",
    "\n",
    "while True:\n",
    "    ret, frame = cap.read()\n",
    "    if not ret:\n",
    "        break\n",
    "\n",
    "    # frame_count += 1\n",
    "    # if frame_count % frame_skip != 0:\n",
    "    #     continue  # Skip this frame\n",
    "\n",
    "    # Reduce resolution\n",
    "    frame = cv2.resize(frame, (640, 480))\n",
    "\n",
    "    # Specify the whitelist of characters\n",
    "    custom_config = r'--oem 3 --psm 6 -c tessedit_char_whitelist=ABCDEFGHIJKLMNOPQRSTUVWXYZabcdefghijklmnopqrstuvwxyz'\n",
    "\n",
    "    # Now process frame with custom configuration\n",
    "    boxes = pytesseract.image_to_boxes(frame, config=custom_config)\n",
    "    imgH, imgW, _ = frame.shape\n",
    "    for box in boxes.splitlines():\n",
    "        box = box.split(' ')\n",
    "        x, y, w, h = int(box[1]), int(box[2]), int(box[3]), int(box[4])\n",
    "        cv2.rectangle(frame, (x, imgH-y), (w, imgH-h), (50,50,255), 1)\n",
    "\n",
    "    cv2.imshow('Text-Detection', frame)\n",
    "    if cv2.waitKey(1) & 0xFF == ord('q'):\n",
    "        break\n",
    "\n",
    "cap.release()\n",
    "cv2.destroyAllWindows()"
   ]
  }
 ],
 "metadata": {
  "kernelspec": {
   "display_name": "Python 3",
   "language": "python",
   "name": "python3"
  },
  "language_info": {
   "codemirror_mode": {
    "name": "ipython",
    "version": 3
   },
   "file_extension": ".py",
   "mimetype": "text/x-python",
   "name": "python",
   "nbconvert_exporter": "python",
   "pygments_lexer": "ipython3",
   "version": "3.11.6"
  }
 },
 "nbformat": 4,
 "nbformat_minor": 2
}
